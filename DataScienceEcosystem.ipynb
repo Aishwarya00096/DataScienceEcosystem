{
 "cells": [
  {
   "cell_type": "markdown",
   "id": "f9ba008b",
   "metadata": {},
   "source": [
    "# Data Science Tools and Ecosystem"
   ]
  },
  {
   "cell_type": "markdown",
   "id": "bece1200",
   "metadata": {},
   "source": [
    "In this notebook, Data science Tool and Ecosystem are summarized"
   ]
  },
  {
   "cell_type": "markdown",
   "id": "51d6d330",
   "metadata": {},
   "source": [
    "Some of the popular languages that Data Scientists use are:\n",
    "1. Python\n",
    "2. Scala\n",
    "3. R\n",
    "4. Java\n"
   ]
  },
  {
   "cell_type": "markdown",
   "id": "bd690b4c",
   "metadata": {},
   "source": [
    "Some of the commonly used libraries used by Data Scientists \n",
    "1. Pandas\n",
    "2. Numbpy\n",
    "3. Matplotlib\n",
    "4. Seaborn"
   ]
  },
  {
   "cell_type": "markdown",
   "id": "e1457354",
   "metadata": {},
   "source": [
    "| Data Science Tools |\n",
    "-------------------------------\n",
    "|Jupiter      |\n",
    "|Jupiter Lab  |\n",
    "|R Studio     |\n",
    "\n"
   ]
  },
  {
   "cell_type": "markdown",
   "id": "6d7bf62d",
   "metadata": {},
   "source": [
    "### Below are a few examples of evaluating arithmetic expressions in Python"
   ]
  },
  {
   "cell_type": "code",
   "execution_count": 3,
   "id": "254384b6",
   "metadata": {},
   "outputs": [
    {
     "data": {
      "text/plain": [
       "17"
      ]
     },
     "execution_count": 3,
     "metadata": {},
     "output_type": "execute_result"
    }
   ],
   "source": [
    "#This is a simple arithmetic exprssion to multiply then add integers\n",
    "(3*4)+5\n"
   ]
  },
  {
   "cell_type": "code",
   "execution_count": 4,
   "id": "ddd9dc20",
   "metadata": {},
   "outputs": [],
   "source": [
    "#This code will convert 200 minutes into hours by dividing by 60\n",
    "a=200\n",
    "a=a/60"
   ]
  },
  {
   "cell_type": "code",
   "execution_count": 5,
   "id": "28b7b4d7",
   "metadata": {},
   "outputs": [
    {
     "data": {
      "text/plain": [
       "3.3333333333333335"
      ]
     },
     "execution_count": 5,
     "metadata": {},
     "output_type": "execute_result"
    }
   ],
   "source": [
    "a"
   ]
  },
  {
   "cell_type": "markdown",
   "id": "f27a6794",
   "metadata": {},
   "source": [
    "### Objectives:"
   ]
  },
  {
   "cell_type": "markdown",
   "id": "6fbce232",
   "metadata": {},
   "source": [
    "* List popular Langauges for Data Science\n",
    "* List Popular Libraries For Data Science\n",
    "* List Popular Open Source Data Science Tools for Development Environment\n",
    "* Intoduction for arithmetic expressions using jupyter notebook\n",
    "* Conversion of a 200 minutes to hours by dividing by 60\n"
   ]
  },
  {
   "cell_type": "markdown",
   "id": "e48190ed",
   "metadata": {},
   "source": [
    "## Author\n",
    "Aishwarya S"
   ]
  },
  {
   "cell_type": "code",
   "execution_count": null,
   "id": "620afbd3",
   "metadata": {},
   "outputs": [],
   "source": []
  }
 ],
 "metadata": {
  "kernelspec": {
   "display_name": "Python 3 (ipykernel)",
   "language": "python",
   "name": "python3"
  },
  "language_info": {
   "codemirror_mode": {
    "name": "ipython",
    "version": 3
   },
   "file_extension": ".py",
   "mimetype": "text/x-python",
   "name": "python",
   "nbconvert_exporter": "python",
   "pygments_lexer": "ipython3",
   "version": "3.9.12"
  }
 },
 "nbformat": 4,
 "nbformat_minor": 5
}
